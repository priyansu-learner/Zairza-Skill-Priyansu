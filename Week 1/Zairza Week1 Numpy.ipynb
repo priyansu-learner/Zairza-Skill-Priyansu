{
 "cells": [
  {
   "cell_type": "code",
   "execution_count": 3,
   "id": "fcfb55f9",
   "metadata": {},
   "outputs": [],
   "source": [
    "import numpy as np"
   ]
  },
  {
   "cell_type": "markdown",
   "id": "92faad4c",
   "metadata": {},
   "source": [
    "### 1.Create an array of 10 tens"
   ]
  },
  {
   "cell_type": "code",
   "execution_count": 15,
   "id": "bf977a6d",
   "metadata": {},
   "outputs": [
    {
     "name": "stdout",
     "output_type": "stream",
     "text": [
      "[10. 10. 10. 10. 10. 10. 10. 10. 10. 10.]\n"
     ]
    }
   ],
   "source": [
    "arr1 = np.ones(10) * 10\n",
    "print(arr1)"
   ]
  },
  {
   "cell_type": "markdown",
   "id": "94eb7def",
   "metadata": {},
   "source": [
    "### 2.Create an array of all the odd integers from 100 to 200"
   ]
  },
  {
   "cell_type": "code",
   "execution_count": 16,
   "id": "254be4ee",
   "metadata": {},
   "outputs": [
    {
     "name": "stdout",
     "output_type": "stream",
     "text": [
      "[101 103 105 107 109 111 113 115 117 119 121 123 125 127 129 131 133 135\n",
      " 137 139 141 143 145 147 149 151 153 155 157 159 161 163 165 167 169 171\n",
      " 173 175 177 179 181 183 185 187 189 191 193 195 197 199]\n"
     ]
    }
   ],
   "source": [
    "arr2 = np.arange(101,200,2)\n",
    "print(arr2)"
   ]
  },
  {
   "cell_type": "markdown",
   "id": "0aa5b532",
   "metadata": {},
   "source": [
    "### 3.Create a 3x3 identity matrix"
   ]
  },
  {
   "cell_type": "code",
   "execution_count": 6,
   "id": "300e0faa",
   "metadata": {},
   "outputs": [
    {
     "name": "stdout",
     "output_type": "stream",
     "text": [
      "[[1. 0. 0.]\n",
      " [0. 1. 0.]\n",
      " [0. 0. 1.]]\n"
     ]
    }
   ],
   "source": [
    "mat1 = np.identity(3)\n",
    "print(mat1)"
   ]
  },
  {
   "cell_type": "markdown",
   "id": "8073aad1",
   "metadata": {},
   "source": [
    "### 4.write a code that gives the output given below"
   ]
  },
  {
   "cell_type": "code",
   "execution_count": 7,
   "id": "4c03d46e",
   "metadata": {},
   "outputs": [
    {
     "data": {
      "text/plain": [
       "array([[ 1,  2,  3,  4,  5],\n",
       "       [ 6,  7,  8,  9, 10],\n",
       "       [11, 12, 13, 14, 15],\n",
       "       [16, 17, 18, 19, 20],\n",
       "       [21, 22, 23, 24, 25]])"
      ]
     },
     "execution_count": 7,
     "metadata": {},
     "output_type": "execute_result"
    }
   ],
   "source": [
    "a = np.arange(1,26).reshape(5,5)\n",
    "a"
   ]
  },
  {
   "cell_type": "markdown",
   "id": "53f675a0",
   "metadata": {},
   "source": [
    "### 5.Create a 4X4 matrix with values starting from 0"
   ]
  },
  {
   "cell_type": "code",
   "execution_count": 18,
   "id": "31ca6d17",
   "metadata": {},
   "outputs": [
    {
     "name": "stdout",
     "output_type": "stream",
     "text": [
      "[[ 0  1  2  3]\n",
      " [ 4  5  6  7]\n",
      " [ 8  9 10 11]\n",
      " [12 13 14 15]]\n"
     ]
    }
   ],
   "source": [
    "mat2 = np.arange(16).reshape(4,4)\n",
    "print(mat2)"
   ]
  },
  {
   "cell_type": "markdown",
   "id": "4c81b28b",
   "metadata": {},
   "source": [
    "### 6.Use NumPy to generate an array of 9 random numbers sampled from a standard normal distribution"
   ]
  },
  {
   "cell_type": "code",
   "execution_count": 19,
   "id": "c2101e32",
   "metadata": {},
   "outputs": [
    {
     "name": "stdout",
     "output_type": "stream",
     "text": [
      "[-0.44711341 -0.34863591 -0.11152512 -0.31621416 -1.41519307  0.95639555\n",
      " -0.01555871  1.39151411 -1.37772182]\n"
     ]
    }
   ],
   "source": [
    "arr3 = np.random.randn(9)\n",
    "print(arr3)"
   ]
  },
  {
   "cell_type": "code",
   "execution_count": 10,
   "id": "f75f9717",
   "metadata": {},
   "outputs": [
    {
     "data": {
      "text/plain": [
       "array([[12, 13, 14, 15],\n",
       "       [16, 17, 18, 19],\n",
       "       [20, 21, 22, 23]])"
      ]
     },
     "execution_count": 10,
     "metadata": {},
     "output_type": "execute_result"
    }
   ],
   "source": [
    "j=np.arange(12,24).reshape(3,4)\n",
    "j"
   ]
  },
  {
   "cell_type": "markdown",
   "id": "4d9cd039",
   "metadata": {},
   "source": [
    "### 7.Get the standard deviation of the values in matrix"
   ]
  },
  {
   "cell_type": "code",
   "execution_count": 11,
   "id": "021c109d",
   "metadata": {},
   "outputs": [
    {
     "name": "stdout",
     "output_type": "stream",
     "text": [
      "3.452052529534663\n"
     ]
    }
   ],
   "source": [
    "std_deviation = np.std(j)\n",
    "print(std_deviation)"
   ]
  },
  {
   "cell_type": "markdown",
   "id": "cfa47e32",
   "metadata": {},
   "source": [
    "### 8.Get the sum of all the columns in mat"
   ]
  },
  {
   "cell_type": "code",
   "execution_count": 12,
   "id": "6797444c",
   "metadata": {},
   "outputs": [
    {
     "data": {
      "text/plain": [
       "array([48, 51, 54, 57])"
      ]
     },
     "execution_count": 12,
     "metadata": {},
     "output_type": "execute_result"
    }
   ],
   "source": [
    "np.sum(j,axis=0)"
   ]
  },
  {
   "cell_type": "markdown",
   "id": "472014f2",
   "metadata": {},
   "source": [
    "### 9.write a code that gives the following output given below."
   ]
  },
  {
   "cell_type": "code",
   "execution_count": 13,
   "id": "e82714a7",
   "metadata": {},
   "outputs": [
    {
     "data": {
      "text/plain": [
       "array([[13],\n",
       "       [17],\n",
       "       [21]])"
      ]
     },
     "execution_count": 13,
     "metadata": {},
     "output_type": "execute_result"
    }
   ],
   "source": [
    "j[:,1:2]"
   ]
  },
  {
   "cell_type": "markdown",
   "id": "08ffcfef",
   "metadata": {},
   "source": [
    "### 10.Get the sum of all the values in mat"
   ]
  },
  {
   "cell_type": "code",
   "execution_count": 14,
   "id": "a9ec158b",
   "metadata": {},
   "outputs": [
    {
     "data": {
      "text/plain": [
       "210"
      ]
     },
     "execution_count": 14,
     "metadata": {},
     "output_type": "execute_result"
    }
   ],
   "source": [
    "np.sum(j)"
   ]
  },
  {
   "cell_type": "code",
   "execution_count": null,
   "id": "9e1d5b24",
   "metadata": {},
   "outputs": [],
   "source": []
  }
 ],
 "metadata": {
  "kernelspec": {
   "display_name": "Python 3",
   "language": "python",
   "name": "python3"
  },
  "language_info": {
   "codemirror_mode": {
    "name": "ipython",
    "version": 3
   },
   "file_extension": ".py",
   "mimetype": "text/x-python",
   "name": "python",
   "nbconvert_exporter": "python",
   "pygments_lexer": "ipython3",
   "version": "3.8.9"
  }
 },
 "nbformat": 4,
 "nbformat_minor": 5
}
