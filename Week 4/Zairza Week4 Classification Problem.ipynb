{
 "cells": [
  {
   "cell_type": "markdown",
   "id": "ac6af381",
   "metadata": {},
   "source": [
    "## PRIYANSU PANDA"
   ]
  },
  {
   "cell_type": "markdown",
   "id": "4ad83e6a",
   "metadata": {},
   "source": [
    "### IMPORTING REQUIRED LIBRARIES"
   ]
  },
  {
   "cell_type": "code",
   "execution_count": 206,
   "id": "12c0c3a9",
   "metadata": {},
   "outputs": [],
   "source": [
    "import numpy as np\n",
    "import pandas as pd\n",
    "import seaborn as sns\n",
    "import matplotlib.pyplot as plt\n",
    "%matplotlib inline\n",
    "plt.style.use(\"seaborn-darkgrid\")"
   ]
  },
  {
   "cell_type": "markdown",
   "id": "122c39c8",
   "metadata": {},
   "source": [
    "### LOADING THE DATA"
   ]
  },
  {
   "cell_type": "code",
   "execution_count": 207,
   "id": "bbcce09b",
   "metadata": {},
   "outputs": [
    {
     "data": {
      "text/plain": [
       "(32561, 15)"
      ]
     },
     "execution_count": 207,
     "metadata": {},
     "output_type": "execute_result"
    }
   ],
   "source": [
    "data = pd.read_csv(\"income_classification.csv\")\n",
    "data.shape"
   ]
  },
  {
   "cell_type": "markdown",
   "id": "aeb20a06",
   "metadata": {},
   "source": [
    "### ANALYZING THE DATA"
   ]
  },
  {
   "cell_type": "code",
   "execution_count": 208,
   "id": "d5ba3232",
   "metadata": {},
   "outputs": [
    {
     "data": {
      "text/html": [
       "<div>\n",
       "<style scoped>\n",
       "    .dataframe tbody tr th:only-of-type {\n",
       "        vertical-align: middle;\n",
       "    }\n",
       "\n",
       "    .dataframe tbody tr th {\n",
       "        vertical-align: top;\n",
       "    }\n",
       "\n",
       "    .dataframe thead th {\n",
       "        text-align: right;\n",
       "    }\n",
       "</style>\n",
       "<table border=\"1\" class=\"dataframe\">\n",
       "  <thead>\n",
       "    <tr style=\"text-align: right;\">\n",
       "      <th></th>\n",
       "      <th>age</th>\n",
       "      <th>workclass</th>\n",
       "      <th>fnlwgt</th>\n",
       "      <th>education</th>\n",
       "      <th>education-num</th>\n",
       "      <th>marital-status</th>\n",
       "      <th>occupation</th>\n",
       "      <th>relationship</th>\n",
       "      <th>race</th>\n",
       "      <th>sex</th>\n",
       "      <th>capital-gain</th>\n",
       "      <th>capital-loss</th>\n",
       "      <th>hours-per-week</th>\n",
       "      <th>native-country</th>\n",
       "      <th>income</th>\n",
       "    </tr>\n",
       "  </thead>\n",
       "  <tbody>\n",
       "    <tr>\n",
       "      <th>0</th>\n",
       "      <td>39</td>\n",
       "      <td>State-gov</td>\n",
       "      <td>77516</td>\n",
       "      <td>Bachelors</td>\n",
       "      <td>13</td>\n",
       "      <td>Never-married</td>\n",
       "      <td>Adm-clerical</td>\n",
       "      <td>Not-in-family</td>\n",
       "      <td>White</td>\n",
       "      <td>Male</td>\n",
       "      <td>2174</td>\n",
       "      <td>0</td>\n",
       "      <td>40</td>\n",
       "      <td>United-States</td>\n",
       "      <td>&lt;=50K</td>\n",
       "    </tr>\n",
       "    <tr>\n",
       "      <th>1</th>\n",
       "      <td>50</td>\n",
       "      <td>Self-emp-not-inc</td>\n",
       "      <td>83311</td>\n",
       "      <td>Bachelors</td>\n",
       "      <td>13</td>\n",
       "      <td>Married-civ-spouse</td>\n",
       "      <td>Exec-managerial</td>\n",
       "      <td>Husband</td>\n",
       "      <td>White</td>\n",
       "      <td>Male</td>\n",
       "      <td>0</td>\n",
       "      <td>0</td>\n",
       "      <td>13</td>\n",
       "      <td>United-States</td>\n",
       "      <td>&lt;=50K</td>\n",
       "    </tr>\n",
       "    <tr>\n",
       "      <th>2</th>\n",
       "      <td>38</td>\n",
       "      <td>Private</td>\n",
       "      <td>215646</td>\n",
       "      <td>HS-grad</td>\n",
       "      <td>9</td>\n",
       "      <td>Divorced</td>\n",
       "      <td>Handlers-cleaners</td>\n",
       "      <td>Not-in-family</td>\n",
       "      <td>White</td>\n",
       "      <td>Male</td>\n",
       "      <td>0</td>\n",
       "      <td>0</td>\n",
       "      <td>40</td>\n",
       "      <td>United-States</td>\n",
       "      <td>&lt;=50K</td>\n",
       "    </tr>\n",
       "    <tr>\n",
       "      <th>3</th>\n",
       "      <td>53</td>\n",
       "      <td>Private</td>\n",
       "      <td>234721</td>\n",
       "      <td>11th</td>\n",
       "      <td>7</td>\n",
       "      <td>Married-civ-spouse</td>\n",
       "      <td>Handlers-cleaners</td>\n",
       "      <td>Husband</td>\n",
       "      <td>Black</td>\n",
       "      <td>Male</td>\n",
       "      <td>0</td>\n",
       "      <td>0</td>\n",
       "      <td>40</td>\n",
       "      <td>United-States</td>\n",
       "      <td>&lt;=50K</td>\n",
       "    </tr>\n",
       "    <tr>\n",
       "      <th>4</th>\n",
       "      <td>28</td>\n",
       "      <td>Private</td>\n",
       "      <td>338409</td>\n",
       "      <td>Bachelors</td>\n",
       "      <td>13</td>\n",
       "      <td>Married-civ-spouse</td>\n",
       "      <td>Prof-specialty</td>\n",
       "      <td>Wife</td>\n",
       "      <td>Black</td>\n",
       "      <td>Female</td>\n",
       "      <td>0</td>\n",
       "      <td>0</td>\n",
       "      <td>40</td>\n",
       "      <td>Cuba</td>\n",
       "      <td>&lt;=50K</td>\n",
       "    </tr>\n",
       "  </tbody>\n",
       "</table>\n",
       "</div>"
      ],
      "text/plain": [
       "   age          workclass   fnlwgt   education   education-num  \\\n",
       "0   39          State-gov    77516   Bachelors              13   \n",
       "1   50   Self-emp-not-inc    83311   Bachelors              13   \n",
       "2   38            Private   215646     HS-grad               9   \n",
       "3   53            Private   234721        11th               7   \n",
       "4   28            Private   338409   Bachelors              13   \n",
       "\n",
       "        marital-status          occupation    relationship    race      sex  \\\n",
       "0        Never-married        Adm-clerical   Not-in-family   White     Male   \n",
       "1   Married-civ-spouse     Exec-managerial         Husband   White     Male   \n",
       "2             Divorced   Handlers-cleaners   Not-in-family   White     Male   \n",
       "3   Married-civ-spouse   Handlers-cleaners         Husband   Black     Male   \n",
       "4   Married-civ-spouse      Prof-specialty            Wife   Black   Female   \n",
       "\n",
       "    capital-gain   capital-loss   hours-per-week  native-country  income  \n",
       "0           2174              0               40   United-States   <=50K  \n",
       "1              0              0               13   United-States   <=50K  \n",
       "2              0              0               40   United-States   <=50K  \n",
       "3              0              0               40   United-States   <=50K  \n",
       "4              0              0               40            Cuba   <=50K  "
      ]
     },
     "execution_count": 208,
     "metadata": {},
     "output_type": "execute_result"
    }
   ],
   "source": [
    "data.head()"
   ]
  },
  {
   "cell_type": "code",
   "execution_count": 209,
   "id": "396a4244",
   "metadata": {},
   "outputs": [
    {
     "data": {
      "text/plain": [
       "age                0\n",
       " workclass         0\n",
       " fnlwgt            0\n",
       " education         0\n",
       " education-num     0\n",
       " marital-status    0\n",
       " occupation        0\n",
       " relationship      0\n",
       " race              0\n",
       " sex               0\n",
       " capital-gain      0\n",
       " capital-loss      0\n",
       " hours-per-week    0\n",
       " native-country    0\n",
       " income            0\n",
       "dtype: int64"
      ]
     },
     "execution_count": 209,
     "metadata": {},
     "output_type": "execute_result"
    }
   ],
   "source": [
    "data.isnull().sum()"
   ]
  },
  {
   "cell_type": "code",
   "execution_count": 210,
   "id": "34ca346f",
   "metadata": {},
   "outputs": [
    {
     "name": "stdout",
     "output_type": "stream",
     "text": [
      "<class 'pandas.core.frame.DataFrame'>\n",
      "RangeIndex: 32561 entries, 0 to 32560\n",
      "Data columns (total 15 columns):\n",
      " #   Column           Non-Null Count  Dtype \n",
      "---  ------           --------------  ----- \n",
      " 0   age              32561 non-null  int64 \n",
      " 1    workclass       32561 non-null  object\n",
      " 2    fnlwgt          32561 non-null  int64 \n",
      " 3    education       32561 non-null  object\n",
      " 4    education-num   32561 non-null  int64 \n",
      " 5    marital-status  32561 non-null  object\n",
      " 6    occupation      32561 non-null  object\n",
      " 7    relationship    32561 non-null  object\n",
      " 8    race            32561 non-null  object\n",
      " 9    sex             32561 non-null  object\n",
      " 10   capital-gain    32561 non-null  int64 \n",
      " 11   capital-loss    32561 non-null  int64 \n",
      " 12   hours-per-week  32561 non-null  int64 \n",
      " 13   native-country  32561 non-null  object\n",
      " 14   income          32561 non-null  object\n",
      "dtypes: int64(6), object(9)\n",
      "memory usage: 3.7+ MB\n"
     ]
    }
   ],
   "source": [
    "data.info()"
   ]
  },
  {
   "cell_type": "markdown",
   "id": "7775f8b6",
   "metadata": {},
   "source": [
    "### EDA"
   ]
  },
  {
   "cell_type": "code",
   "execution_count": 211,
   "id": "2f9f15ae",
   "metadata": {},
   "outputs": [
    {
     "data": {
      "text/plain": [
       "<AxesSubplot:xlabel='age', ylabel='Count'>"
      ]
     },
     "execution_count": 211,
     "metadata": {},
     "output_type": "execute_result"
    },
    {
     "data": {
      "image/png": "[encoded data removed]",
      "text/plain": [
       "<Figure size 432x288 with 1 Axes>"
      ]
     },
     "metadata": {},
     "output_type": "display_data"
    }
   ],
   "source": [
    "sns.histplot(data[\"age\"],bins=20,kde=True)"
   ]
  },
  {
   "cell_type": "code",
   "execution_count": 212,
   "id": "9f5f943d",
   "metadata": {},
   "outputs": [
    {
     "name": "stdout",
     "output_type": "stream",
     "text": [
      "[' State-gov' ' Self-emp-not-inc' ' Private' ' Federal-gov' ' Local-gov'\n",
      " ' ?' ' Self-emp-inc' ' Without-pay' ' Never-worked']\n",
      " Private             22696\n",
      " Self-emp-not-inc     2541\n",
      " Local-gov            2093\n",
      " ?                    1836\n",
      " State-gov            1298\n",
      " Self-emp-inc         1116\n",
      " Federal-gov           960\n",
      " Without-pay            14\n",
      " Never-worked            7\n",
      "Name:  workclass, dtype: int64\n"
     ]
    }
   ],
   "source": [
    "print(data[\" workclass\"].unique())\n",
    "print(data[\" workclass\"].value_counts())"
   ]
  },
  {
   "cell_type": "code",
   "execution_count": 213,
   "id": "3acb3a91",
   "metadata": {},
   "outputs": [],
   "source": [
    "data[\" workclass\"] = data[\" workclass\"].replace({\" ?\":\" Other\"})"
   ]
  },
  {
   "cell_type": "code",
   "execution_count": 214,
   "id": "184ec50e",
   "metadata": {},
   "outputs": [
    {
     "data": {
      "text/plain": [
       "<AxesSubplot:xlabel='count', ylabel=' workclass'>"
      ]
     },
     "execution_count": 214,
     "metadata": {},
     "output_type": "execute_result"
    },
    {
     "data": {
      "image/png": "[encoded data removed]",
      "text/plain": [
       "<Figure size 432x288 with 1 Axes>"
      ]
     },
     "metadata": {},
     "output_type": "display_data"
    }
   ],
   "source": [
    "sns.countplot(y=\" workclass\",data=data)"
   ]
  },
  {
   "cell_type": "code",
   "execution_count": 215,
   "id": "43134e8b",
   "metadata": {},
   "outputs": [
    {
     "data": {
      "text/plain": [
       "<AxesSubplot:xlabel=' fnlwgt', ylabel='Count'>"
      ]
     },
     "execution_count": 215,
     "metadata": {},
     "output_type": "execute_result"
    },
    {
     "data": {
      "image/png": "[encoded data removed]",
      "text/plain": [
       "<Figure size 432x288 with 1 Axes>"
      ]
     },
     "metadata": {},
     "output_type": "display_data"
    }
   ],
   "source": [
    "sns.histplot(data[\" fnlwgt\"],bins=20,kde=True)"
   ]
  },
  {
   "cell_type": "code",
   "execution_count": 216,
   "id": "8d614a89",
   "metadata": {},
   "outputs": [
    {
     "name": "stdout",
     "output_type": "stream",
     "text": [
      "[' Bachelors' ' HS-grad' ' 11th' ' Masters' ' 9th' ' Some-college'\n",
      " ' Assoc-acdm' ' Assoc-voc' ' 7th-8th' ' Doctorate' ' Prof-school'\n",
      " ' 5th-6th' ' 10th' ' 1st-4th' ' Preschool' ' 12th']\n",
      " HS-grad         10501\n",
      " Some-college     7291\n",
      " Bachelors        5355\n",
      " Masters          1723\n",
      " Assoc-voc        1382\n",
      " 11th             1175\n",
      " Assoc-acdm       1067\n",
      " 10th              933\n",
      " 7th-8th           646\n",
      " Prof-school       576\n",
      " 9th               514\n",
      " 12th              433\n",
      " Doctorate         413\n",
      " 5th-6th           333\n",
      " 1st-4th           168\n",
      " Preschool          51\n",
      "Name:  education, dtype: int64\n"
     ]
    }
   ],
   "source": [
    "print(data[\" education\"].unique())\n",
    "print(data[\" education\"].value_counts())"
   ]
  },
  {
   "cell_type": "code",
   "execution_count": 217,
   "id": "035c8e96",
   "metadata": {},
   "outputs": [
    {
     "data": {
      "text/plain": [
       "<AxesSubplot:xlabel='count', ylabel=' education'>"
      ]
     },
     "execution_count": 217,
     "metadata": {},
     "output_type": "execute_result"
    },
    {
     "data": {
      "image/png": "[encoded data removed]",
      "text/plain": [
       "<Figure size 432x288 with 1 Axes>"
      ]
     },
     "metadata": {},
     "output_type": "display_data"
    }
   ],
   "source": [
    "sns.countplot(y=\" education\",data=data)"
   ]
  },
  {
   "cell_type": "code",
   "execution_count": 218,
   "id": "14959412",
   "metadata": {},
   "outputs": [
    {
     "data": {
      "text/plain": [
       "<AxesSubplot:xlabel=' education-num', ylabel='Count'>"
      ]
     },
     "execution_count": 218,
     "metadata": {},
     "output_type": "execute_result"
    },
    {
     "data": {
      "image/png": "[encoded data removed]",
      "text/plain": [
       "<Figure size 432x288 with 1 Axes>"
      ]
     },
     "metadata": {},
     "output_type": "display_data"
    }
   ],
   "source": [
    "sns.histplot(data[\" education-num\"],bins=20,kde=True)"
   ]
  },
  {
   "cell_type": "code",
   "execution_count": 219,
   "id": "4de022da",
   "metadata": {},
   "outputs": [
    {
     "name": "stdout",
     "output_type": "stream",
     "text": [
      " Married-civ-spouse       14976\n",
      " Never-married            10683\n",
      " Divorced                  4443\n",
      " Separated                 1025\n",
      " Widowed                    993\n",
      " Married-spouse-absent      418\n",
      " Married-AF-spouse           23\n",
      "Name:  marital-status, dtype: int64\n"
     ]
    }
   ],
   "source": [
    "print(data[\" marital-status\"].value_counts())"
   ]
  },
  {
   "cell_type": "code",
   "execution_count": 220,
   "id": "4f9e4f99",
   "metadata": {},
   "outputs": [
    {
     "data": {
      "text/plain": [
       "<AxesSubplot:xlabel='count', ylabel=' marital-status'>"
      ]
     },
     "execution_count": 220,
     "metadata": {},
     "output_type": "execute_result"
    },
    {
     "data": {
      "image/png": "[encoded data removed]",
      "text/plain": [
       "<Figure size 432x288 with 1 Axes>"
      ]
     },
     "metadata": {},
     "output_type": "display_data"
    }
   ],
   "source": [
    "sns.countplot(y=\" marital-status\",data=data)"
   ]
  },
  {
   "cell_type": "code",
   "execution_count": 221,
   "id": "1e0d0ae3",
   "metadata": {},
   "outputs": [
    {
     "name": "stdout",
     "output_type": "stream",
     "text": [
      " Prof-specialty       4140\n",
      " Craft-repair         4099\n",
      " Exec-managerial      4066\n",
      " Adm-clerical         3770\n",
      " Sales                3650\n",
      " Other-service        3295\n",
      " Machine-op-inspct    2002\n",
      " ?                    1843\n",
      " Transport-moving     1597\n",
      " Handlers-cleaners    1370\n",
      " Farming-fishing       994\n",
      " Tech-support          928\n",
      " Protective-serv       649\n",
      " Priv-house-serv       149\n",
      " Armed-Forces            9\n",
      "Name:  occupation, dtype: int64\n"
     ]
    }
   ],
   "source": [
    "print(data[\" occupation\"].value_counts())"
   ]
  },
  {
   "cell_type": "code",
   "execution_count": 222,
   "id": "f3a0c204",
   "metadata": {},
   "outputs": [],
   "source": [
    "data[\" occupation\"] = data[\" occupation\"].replace({\" ?\":\" Other\"})"
   ]
  },
  {
   "cell_type": "code",
   "execution_count": 223,
   "id": "e1b542e5",
   "metadata": {},
   "outputs": [
    {
     "data": {
      "text/plain": [
       "<AxesSubplot:xlabel='count', ylabel=' occupation'>"
      ]
     },
     "execution_count": 223,
     "metadata": {},
     "output_type": "execute_result"
    },
    {
     "data": {
      "image/png": "[encoded data removed]",
      "text/plain": [
       "<Figure size 432x288 with 1 Axes>"
      ]
     },
     "metadata": {},
     "output_type": "display_data"
    }
   ],
   "source": [
    "sns.countplot(y=\" occupation\",data=data)"
   ]
  },
  {
   "cell_type": "code",
   "execution_count": 224,
   "id": "ef2aa789",
   "metadata": {},
   "outputs": [
    {
     "name": "stdout",
     "output_type": "stream",
     "text": [
      " Husband           13193\n",
      " Not-in-family      8305\n",
      " Own-child          5068\n",
      " Unmarried          3446\n",
      " Wife               1568\n",
      " Other-relative      981\n",
      "Name:  relationship, dtype: int64\n"
     ]
    }
   ],
   "source": [
    "print(data[\" relationship\"].value_counts())"
   ]
  },
  {
   "cell_type": "code",
   "execution_count": 225,
   "id": "aa99846f",
   "metadata": {},
   "outputs": [
    {
     "data": {
      "text/plain": [
       "<AxesSubplot:xlabel='count', ylabel=' relationship'>"
      ]
     },
     "execution_count": 225,
     "metadata": {},
     "output_type": "execute_result"
    },
    {
     "data": {
      "image/png": "[encoded data removed]",
      "text/plain": [
       "<Figure size 432x288 with 1 Axes>"
      ]
     },
     "metadata": {},
     "output_type": "display_data"
    }
   ],
   "source": [
    "sns.countplot(y=\" relationship\",data=data)"
   ]
  },
  {
   "cell_type": "code",
   "execution_count": 226,
   "id": "16c6e2ea",
   "metadata": {},
   "outputs": [
    {
     "name": "stdout",
     "output_type": "stream",
     "text": [
      " White                 27816\n",
      " Black                  3124\n",
      " Asian-Pac-Islander     1039\n",
      " Amer-Indian-Eskimo      311\n",
      " Other                   271\n",
      "Name:  race, dtype: int64\n"
     ]
    }
   ],
   "source": [
    "print(data[\" race\"].value_counts())"
   ]
  },
  {
   "cell_type": "code",
   "execution_count": 227,
   "id": "9f7ed895",
   "metadata": {},
   "outputs": [
    {
     "data": {
      "text/plain": [
       "<AxesSubplot:xlabel='count', ylabel=' race'>"
      ]
     },
     "execution_count": 227,
     "metadata": {},
     "output_type": "execute_result"
    },
    {
     "data": {
      "image/png": "[encoded data removed]",
      "text/plain": [
       "<Figure size 432x288 with 1 Axes>"
      ]
     },
     "metadata": {},
     "output_type": "display_data"
    }
   ],
   "source": [
    "sns.countplot(y=\" race\",data=data)"
   ]
  },
  {
   "cell_type": "code",
   "execution_count": 228,
   "id": "fb56c48e",
   "metadata": {},
   "outputs": [
    {
     "name": "stdout",
     "output_type": "stream",
     "text": [
      " Male      21790\n",
      " Female    10771\n",
      "Name:  sex, dtype: int64\n"
     ]
    }
   ],
   "source": [
    "print(data[\" sex\"].value_counts())"
   ]
  },
  {
   "cell_type": "code",
   "execution_count": 229,
   "id": "04cd5089",
   "metadata": {},
   "outputs": [
    {
     "data": {
      "text/plain": [
       "<AxesSubplot:xlabel='count', ylabel=' sex'>"
      ]
     },
     "execution_count": 229,
     "metadata": {},
     "output_type": "execute_result"
    },
    {
     "data": {
      "image/png": "[encoded data removed]",
      "text/plain": [
       "<Figure size 432x288 with 1 Axes>"
      ]
     },
     "metadata": {},
     "output_type": "display_data"
    }
   ],
   "source": [
    "sns.countplot(y=\" sex\",data=data)"
   ]
  },
  {
   "cell_type": "code",
   "execution_count": 230,
   "id": "200f9894",
   "metadata": {},
   "outputs": [
    {
     "data": {
      "text/plain": [
       "<AxesSubplot:xlabel=' capital-gain', ylabel='Count'>"
      ]
     },
     "execution_count": 230,
     "metadata": {},
     "output_type": "execute_result"
    },
    {
     "data": {
      "image/png": "[encoded data removed]",
      "text/plain": [
       "<Figure size 432x288 with 1 Axes>"
      ]
     },
     "metadata": {},
     "output_type": "display_data"
    }
   ],
   "source": [
    "sns.histplot(data[\" capital-gain\"],bins=20,kde=True)"
   ]
  },
  {
   "cell_type": "code",
   "execution_count": 231,
   "id": "06b7e42d",
   "metadata": {},
   "outputs": [
    {
     "data": {
      "text/plain": [
       "<AxesSubplot:xlabel=' capital-loss', ylabel='Count'>"
      ]
     },
     "execution_count": 231,
     "metadata": {},
     "output_type": "execute_result"
    },
    {
     "data": {
      "image/png": "[encoded data removed]",
      "text/plain": [
       "<Figure size 432x288 with 1 Axes>"
      ]
     },
     "metadata": {},
     "output_type": "display_data"
    }
   ],
   "source": [
    "sns.histplot(data[\" capital-loss\"],bins=20,kde=True)"
   ]
  },
  {
   "cell_type": "code",
   "execution_count": 232,
   "id": "0563060f",
   "metadata": {},
   "outputs": [
    {
     "data": {
      "text/plain": [
       "<AxesSubplot:xlabel=' hours-per-week', ylabel='Count'>"
      ]
     },
     "execution_count": 232,
     "metadata": {},
     "output_type": "execute_result"
    },
    {
     "data": {
      "image/png": "[encoded data removed]",
      "text/plain": [
       "<Figure size 432x288 with 1 Axes>"
      ]
     },
     "metadata": {},
     "output_type": "display_data"
    }
   ],
   "source": [
    "sns.histplot(data[\" hours-per-week\"],bins=20,kde=True)"
   ]
  },
  {
   "cell_type": "code",
   "execution_count": 233,
   "id": "521efbc1",
   "metadata": {},
   "outputs": [
    {
     "name": "stdout",
     "output_type": "stream",
     "text": [
      " United-States                 29170\n",
      " Mexico                          643\n",
      " ?                               583\n",
      " Philippines                     198\n",
      " Germany                         137\n",
      " Canada                          121\n",
      " Puerto-Rico                     114\n",
      " El-Salvador                     106\n",
      " India                           100\n",
      " Cuba                             95\n",
      " England                          90\n",
      " Jamaica                          81\n",
      " South                            80\n",
      " China                            75\n",
      " Italy                            73\n",
      " Dominican-Republic               70\n",
      " Vietnam                          67\n",
      " Guatemala                        64\n",
      " Japan                            62\n",
      " Poland                           60\n",
      " Columbia                         59\n",
      " Taiwan                           51\n",
      " Haiti                            44\n",
      " Iran                             43\n",
      " Portugal                         37\n",
      " Nicaragua                        34\n",
      " Peru                             31\n",
      " Greece                           29\n",
      " France                           29\n",
      " Ecuador                          28\n",
      " Ireland                          24\n",
      " Hong                             20\n",
      " Cambodia                         19\n",
      " Trinadad&Tobago                  19\n",
      " Laos                             18\n",
      " Thailand                         18\n",
      " Yugoslavia                       16\n",
      " Outlying-US(Guam-USVI-etc)       14\n",
      " Hungary                          13\n",
      " Honduras                         13\n",
      " Scotland                         12\n",
      " Holand-Netherlands                1\n",
      "Name:  native-country, dtype: int64\n"
     ]
    }
   ],
   "source": [
    "print(data[\" native-country\"].value_counts())"
   ]
  },
  {
   "cell_type": "code",
   "execution_count": 234,
   "id": "e55ba952",
   "metadata": {},
   "outputs": [],
   "source": [
    "data[\" native-country\"] = data[\" native-country\"].replace({\" ?\":\" Other\"})"
   ]
  },
  {
   "cell_type": "code",
   "execution_count": 235,
   "id": "42b8b3a0",
   "metadata": {},
   "outputs": [
    {
     "name": "stdout",
     "output_type": "stream",
     "text": [
      " <=50K    24720\n",
      " >50K      7841\n",
      "Name:  income, dtype: int64\n"
     ]
    }
   ],
   "source": [
    "print(data[\" income\"].value_counts())"
   ]
  },
  {
   "cell_type": "code",
   "execution_count": 236,
   "id": "ef307a4e",
   "metadata": {},
   "outputs": [],
   "source": [
    "data[\" income\"] = data[\" income\"].map({ \" <=50K\": 0, \" >50K\": 1 })"
   ]
  },
  {
   "cell_type": "markdown",
   "id": "f052e2ca",
   "metadata": {},
   "source": [
    "### WORKCLASS VS INCOME"
   ]
  },
  {
   "cell_type": "code",
   "execution_count": 237,
   "id": "8dc08fe5",
   "metadata": {},
   "outputs": [
    {
     "data": {
      "text/plain": [
       "(array([0, 1, 2, 3, 4, 5, 6, 7, 8]),\n",
       " [Text(0, 0, ' State-gov'),\n",
       "  Text(1, 0, ' Self-emp-not-inc'),\n",
       "  Text(2, 0, ' Private'),\n",
       "  Text(3, 0, ' Federal-gov'),\n",
       "  Text(4, 0, ' Local-gov'),\n",
       "  Text(5, 0, ' Other'),\n",
       "  Text(6, 0, ' Self-emp-inc'),\n",
       "  Text(7, 0, ' Without-pay'),\n",
       "  Text(8, 0, ' Never-worked')])"
      ]
     },
     "execution_count": 237,
     "metadata": {},
     "output_type": "execute_result"
    },
    {
     "data": {
      "image/png": "[encoded data removed]",
      "text/plain": [
       "<Figure size 360x360 with 1 Axes>"
      ]
     },
     "metadata": {},
     "output_type": "display_data"
    }
   ],
   "source": [
    "sns.catplot(x=\" workclass\",y=\" income\",data=data,kind=\"bar\")\n",
    "plt.xticks(rotation=90)"
   ]
  },
  {
   "cell_type": "markdown",
   "id": "8da6c09f",
   "metadata": {},
   "source": [
    "### EDUCATION VS INCOME"
   ]
  },
  {
   "cell_type": "code",
   "execution_count": 238,
   "id": "8bbee251",
   "metadata": {},
   "outputs": [
    {
     "data": {
      "text/plain": [
       "(array([ 0,  1,  2,  3,  4,  5,  6,  7,  8,  9, 10, 11, 12, 13, 14, 15]),\n",
       " [Text(0, 0, ' Bachelors'),\n",
       "  Text(1, 0, ' HS-grad'),\n",
       "  Text(2, 0, ' 11th'),\n",
       "  Text(3, 0, ' Masters'),\n",
       "  Text(4, 0, ' 9th'),\n",
       "  Text(5, 0, ' Some-college'),\n",
       "  Text(6, 0, ' Assoc-acdm'),\n",
       "  Text(7, 0, ' Assoc-voc'),\n",
       "  Text(8, 0, ' 7th-8th'),\n",
       "  Text(9, 0, ' Doctorate'),\n",
       "  Text(10, 0, ' Prof-school'),\n",
       "  Text(11, 0, ' 5th-6th'),\n",
       "  Text(12, 0, ' 10th'),\n",
       "  Text(13, 0, ' 1st-4th'),\n",
       "  Text(14, 0, ' Preschool'),\n",
       "  Text(15, 0, ' 12th')])"
      ]
     },
     "execution_count": 238,
     "metadata": {},
     "output_type": "execute_result"
    },
    {
     "data": {
      "image/png": "[encoded data removed]",
      "text/plain": [
       "<Figure size 360x360 with 1 Axes>"
      ]
     },
     "metadata": {},
     "output_type": "display_data"
    }
   ],
   "source": [
    "sns.catplot(x=\" education\",y=\" income\",data=data,kind=\"bar\")\n",
    "plt.xticks(rotation=90)"
   ]
  },
  {
   "cell_type": "markdown",
   "id": "9dcbdc12",
   "metadata": {},
   "source": [
    "### MARITAL-STATUS VS INCOME"
   ]
  },
  {
   "cell_type": "code",
   "execution_count": 239,
   "id": "36150ecc",
   "metadata": {},
   "outputs": [
    {
     "data": {
      "text/plain": [
       "(array([0, 1, 2, 3, 4, 5, 6]),\n",
       " [Text(0, 0, ' Never-married'),\n",
       "  Text(1, 0, ' Married-civ-spouse'),\n",
       "  Text(2, 0, ' Divorced'),\n",
       "  Text(3, 0, ' Married-spouse-absent'),\n",
       "  Text(4, 0, ' Separated'),\n",
       "  Text(5, 0, ' Married-AF-spouse'),\n",
       "  Text(6, 0, ' Widowed')])"
      ]
     },
     "execution_count": 239,
     "metadata": {},
     "output_type": "execute_result"
    },
    {
     "data": {
      "image/png": "[encoded data removed]",
      "text/plain": [
       "<Figure size 360x360 with 1 Axes>"
      ]
     },
     "metadata": {},
     "output_type": "display_data"
    }
   ],
   "source": [
    "sns.catplot(x=\" marital-status\",y=\" income\",data=data,kind=\"bar\")\n",
    "plt.xticks(rotation=90)"
   ]
  },
  {
   "cell_type": "markdown",
   "id": "f7333076",
   "metadata": {},
   "source": [
    "### OCCUPATION VS INCOME"
   ]
  },
  {
   "cell_type": "code",
   "execution_count": 240,
   "id": "b4f848ea",
   "metadata": {},
   "outputs": [
    {
     "data": {
      "text/plain": [
       "(array([ 0,  1,  2,  3,  4,  5,  6,  7,  8,  9, 10, 11, 12, 13, 14]),\n",
       " [Text(0, 0, ' Adm-clerical'),\n",
       "  Text(1, 0, ' Exec-managerial'),\n",
       "  Text(2, 0, ' Handlers-cleaners'),\n",
       "  Text(3, 0, ' Prof-specialty'),\n",
       "  Text(4, 0, ' Other-service'),\n",
       "  Text(5, 0, ' Sales'),\n",
       "  Text(6, 0, ' Craft-repair'),\n",
       "  Text(7, 0, ' Transport-moving'),\n",
       "  Text(8, 0, ' Farming-fishing'),\n",
       "  Text(9, 0, ' Machine-op-inspct'),\n",
       "  Text(10, 0, ' Tech-support'),\n",
       "  Text(11, 0, ' Other'),\n",
       "  Text(12, 0, ' Protective-serv'),\n",
       "  Text(13, 0, ' Armed-Forces'),\n",
       "  Text(14, 0, ' Priv-house-serv')])"
      ]
     },
     "execution_count": 240,
     "metadata": {},
     "output_type": "execute_result"
    },
    {
     "data": {
      "image/png": "[encoded data removed]",
      "text/plain": [
       "<Figure size 360x360 with 1 Axes>"
      ]
     },
     "metadata": {},
     "output_type": "display_data"
    }
   ],
   "source": [
    "sns.catplot(x=\" occupation\",y=\" income\",data=data,kind=\"bar\")\n",
    "plt.xticks(rotation=90)"
   ]
  },
  {
   "cell_type": "markdown",
   "id": "8c4763e7",
   "metadata": {},
   "source": [
    "### RELATIONSHIP VS INCOME"
   ]
  },
  {
   "cell_type": "code",
   "execution_count": 241,
   "id": "cb7fb2d5",
   "metadata": {},
   "outputs": [
    {
     "data": {
      "text/plain": [
       "(array([0, 1, 2, 3, 4, 5]),\n",
       " [Text(0, 0, ' Not-in-family'),\n",
       "  Text(1, 0, ' Husband'),\n",
       "  Text(2, 0, ' Wife'),\n",
       "  Text(3, 0, ' Own-child'),\n",
       "  Text(4, 0, ' Unmarried'),\n",
       "  Text(5, 0, ' Other-relative')])"
      ]
     },
     "execution_count": 241,
     "metadata": {},
     "output_type": "execute_result"
    },
    {
     "data": {
      "image/png": "[encoded data removed]",
      "text/plain": [
       "<Figure size 360x360 with 1 Axes>"
      ]
     },
     "metadata": {},
     "output_type": "display_data"
    }
   ],
   "source": [
    "sns.catplot(x=\" relationship\",y=\" income\",data=data,kind=\"bar\")\n",
    "plt.xticks(rotation=90)"
   ]
  },
  {
   "cell_type": "markdown",
   "id": "57d5bffd",
   "metadata": {},
   "source": [
    "### RACE VS INCOME"
   ]
  },
  {
   "cell_type": "code",
   "execution_count": 242,
   "id": "27551772",
   "metadata": {},
   "outputs": [
    {
     "data": {
      "text/plain": [
       "(array([0, 1, 2, 3, 4]),\n",
       " [Text(0, 0, ' White'),\n",
       "  Text(1, 0, ' Black'),\n",
       "  Text(2, 0, ' Asian-Pac-Islander'),\n",
       "  Text(3, 0, ' Amer-Indian-Eskimo'),\n",
       "  Text(4, 0, ' Other')])"
      ]
     },
     "execution_count": 242,
     "metadata": {},
     "output_type": "execute_result"
    },
    {
     "data": {
      "image/png": "[encoded data removed]",
      "text/plain": [
       "<Figure size 360x360 with 1 Axes>"
      ]
     },
     "metadata": {},
     "output_type": "display_data"
    }
   ],
   "source": [
    "sns.catplot(x=\" race\",y=\" income\",data=data,kind=\"bar\")\n",
    "plt.xticks(rotation=90)"
   ]
  },
  {
   "cell_type": "markdown",
   "id": "6ef71375",
   "metadata": {},
   "source": [
    "### SEX VS INCOME"
   ]
  },
  {
   "cell_type": "code",
   "execution_count": 243,
   "id": "11a92612",
   "metadata": {},
   "outputs": [
    {
     "data": {
      "text/plain": [
       "(array([0, 1]), [Text(0, 0, ' Male'), Text(1, 0, ' Female')])"
      ]
     },
     "execution_count": 243,
     "metadata": {},
     "output_type": "execute_result"
    },
    {
     "data": {
      "image/png": "[encoded data removed]",
      "text/plain": [
       "<Figure size 360x360 with 1 Axes>"
      ]
     },
     "metadata": {},
     "output_type": "display_data"
    }
   ],
   "source": [
    "sns.catplot(x=\" sex\",y=\" income\",data=data,kind=\"bar\")\n",
    "plt.xticks(rotation=90)"
   ]
  },
  {
   "cell_type": "markdown",
   "id": "62557043",
   "metadata": {},
   "source": [
    "### NATIVE COUNTRY VS INCOME"
   ]
  },
  {
   "cell_type": "code",
   "execution_count": 244,
   "id": "cd842c12",
   "metadata": {},
   "outputs": [
    {
     "data": {
      "text/plain": [
       "(array([ 0,  1,  2,  3,  4,  5,  6,  7,  8,  9, 10, 11, 12, 13, 14, 15, 16,\n",
       "        17, 18, 19, 20, 21, 22, 23, 24, 25, 26, 27, 28, 29, 30, 31, 32, 33,\n",
       "        34, 35, 36, 37, 38, 39, 40, 41]),\n",
       " [Text(0, 0, ' United-States'),\n",
       "  Text(1, 0, ' Cuba'),\n",
       "  Text(2, 0, ' Jamaica'),\n",
       "  Text(3, 0, ' India'),\n",
       "  Text(4, 0, ' Other'),\n",
       "  Text(5, 0, ' Mexico'),\n",
       "  Text(6, 0, ' South'),\n",
       "  Text(7, 0, ' Puerto-Rico'),\n",
       "  Text(8, 0, ' Honduras'),\n",
       "  Text(9, 0, ' England'),\n",
       "  Text(10, 0, ' Canada'),\n",
       "  Text(11, 0, ' Germany'),\n",
       "  Text(12, 0, ' Iran'),\n",
       "  Text(13, 0, ' Philippines'),\n",
       "  Text(14, 0, ' Italy'),\n",
       "  Text(15, 0, ' Poland'),\n",
       "  Text(16, 0, ' Columbia'),\n",
       "  Text(17, 0, ' Cambodia'),\n",
       "  Text(18, 0, ' Thailand'),\n",
       "  Text(19, 0, ' Ecuador'),\n",
       "  Text(20, 0, ' Laos'),\n",
       "  Text(21, 0, ' Taiwan'),\n",
       "  Text(22, 0, ' Haiti'),\n",
       "  Text(23, 0, ' Portugal'),\n",
       "  Text(24, 0, ' Dominican-Republic'),\n",
       "  Text(25, 0, ' El-Salvador'),\n",
       "  Text(26, 0, ' France'),\n",
       "  Text(27, 0, ' Guatemala'),\n",
       "  Text(28, 0, ' China'),\n",
       "  Text(29, 0, ' Japan'),\n",
       "  Text(30, 0, ' Yugoslavia'),\n",
       "  Text(31, 0, ' Peru'),\n",
       "  Text(32, 0, ' Outlying-US(Guam-USVI-etc)'),\n",
       "  Text(33, 0, ' Scotland'),\n",
       "  Text(34, 0, ' Trinadad&Tobago'),\n",
       "  Text(35, 0, ' Greece'),\n",
       "  Text(36, 0, ' Nicaragua'),\n",
       "  Text(37, 0, ' Vietnam'),\n",
       "  Text(38, 0, ' Hong'),\n",
       "  Text(39, 0, ' Ireland'),\n",
       "  Text(40, 0, ' Hungary'),\n",
       "  Text(41, 0, ' Holand-Netherlands')])"
      ]
     },
     "execution_count": 244,
     "metadata": {},
     "output_type": "execute_result"
    },
    {
     "data": {
      "text/plain": [
       "<Figure size 1080x1080 with 0 Axes>"
      ]
     },
     "metadata": {},
     "output_type": "display_data"
    },
    {
     "data": {
      "image/png": "[encoded data removed]",
      "text/plain": [
       "<Figure size 864x864 with 1 Axes>"
      ]
     },
     "metadata": {},
     "output_type": "display_data"
    }
   ],
   "source": [
    "plt.figure(figsize=(15,15))\n",
    "sns.catplot(x=\" native-country\",y=\" income\",data=data,kind=\"bar\",height=12)\n",
    "plt.xticks(rotation=90)"
   ]
  },
  {
   "cell_type": "markdown",
   "id": "5c75b79c",
   "metadata": {},
   "source": [
    "### ONE HOT ENCODING & PROCESSING THE DATA FOR CLASSIFICATION"
   ]
  },
  {
   "cell_type": "code",
   "execution_count": 245,
   "id": "3a5270fe",
   "metadata": {},
   "outputs": [],
   "source": [
    "categorical_attributes = data.select_dtypes(include =['object']).axes[1]"
   ]
  },
  {
   "cell_type": "code",
   "execution_count": 246,
   "id": "dc555e86",
   "metadata": {},
   "outputs": [],
   "source": [
    "for category in categorical_attributes:\n",
    "    data = pd.concat([data,pd.get_dummies(data[category],prefix = category,drop_first = True)] , axis = 1)\n",
    "    data.drop(category , axis = 1 , inplace = True)"
   ]
  },
  {
   "cell_type": "code",
   "execution_count": 247,
   "id": "39a3a207",
   "metadata": {},
   "outputs": [
    {
     "data": {
      "text/html": [
       "<div>\n",
       "<style scoped>\n",
       "    .dataframe tbody tr th:only-of-type {\n",
       "        vertical-align: middle;\n",
       "    }\n",
       "\n",
       "    .dataframe tbody tr th {\n",
       "        vertical-align: top;\n",
       "    }\n",
       "\n",
       "    .dataframe thead th {\n",
       "        text-align: right;\n",
       "    }\n",
       "</style>\n",
       "<table border=\"1\" class=\"dataframe\">\n",
       "  <thead>\n",
       "    <tr style=\"text-align: right;\">\n",
       "      <th></th>\n",
       "      <th>age</th>\n",
       "      <th>fnlwgt</th>\n",
       "      <th>education-num</th>\n",
       "      <th>capital-gain</th>\n",
       "      <th>capital-loss</th>\n",
       "      <th>hours-per-week</th>\n",
       "      <th>income</th>\n",
       "      <th>workclass_ Local-gov</th>\n",
       "      <th>workclass_ Never-worked</th>\n",
       "      <th>workclass_ Other</th>\n",
       "      <th>...</th>\n",
       "      <th>native-country_ Portugal</th>\n",
       "      <th>native-country_ Puerto-Rico</th>\n",
       "      <th>native-country_ Scotland</th>\n",
       "      <th>native-country_ South</th>\n",
       "      <th>native-country_ Taiwan</th>\n",
       "      <th>native-country_ Thailand</th>\n",
       "      <th>native-country_ Trinadad&amp;Tobago</th>\n",
       "      <th>native-country_ United-States</th>\n",
       "      <th>native-country_ Vietnam</th>\n",
       "      <th>native-country_ Yugoslavia</th>\n",
       "    </tr>\n",
       "  </thead>\n",
       "  <tbody>\n",
       "    <tr>\n",
       "      <th>0</th>\n",
       "      <td>39</td>\n",
       "      <td>77516</td>\n",
       "      <td>13</td>\n",
       "      <td>2174</td>\n",
       "      <td>0</td>\n",
       "      <td>40</td>\n",
       "      <td>0</td>\n",
       "      <td>0</td>\n",
       "      <td>0</td>\n",
       "      <td>0</td>\n",
       "      <td>...</td>\n",
       "      <td>0</td>\n",
       "      <td>0</td>\n",
       "      <td>0</td>\n",
       "      <td>0</td>\n",
       "      <td>0</td>\n",
       "      <td>0</td>\n",
       "      <td>0</td>\n",
       "      <td>1</td>\n",
       "      <td>0</td>\n",
       "      <td>0</td>\n",
       "    </tr>\n",
       "    <tr>\n",
       "      <th>1</th>\n",
       "      <td>50</td>\n",
       "      <td>83311</td>\n",
       "      <td>13</td>\n",
       "      <td>0</td>\n",
       "      <td>0</td>\n",
       "      <td>13</td>\n",
       "      <td>0</td>\n",
       "      <td>0</td>\n",
       "      <td>0</td>\n",
       "      <td>0</td>\n",
       "      <td>...</td>\n",
       "      <td>0</td>\n",
       "      <td>0</td>\n",
       "      <td>0</td>\n",
       "      <td>0</td>\n",
       "      <td>0</td>\n",
       "      <td>0</td>\n",
       "      <td>0</td>\n",
       "      <td>1</td>\n",
       "      <td>0</td>\n",
       "      <td>0</td>\n",
       "    </tr>\n",
       "    <tr>\n",
       "      <th>2</th>\n",
       "      <td>38</td>\n",
       "      <td>215646</td>\n",
       "      <td>9</td>\n",
       "      <td>0</td>\n",
       "      <td>0</td>\n",
       "      <td>40</td>\n",
       "      <td>0</td>\n",
       "      <td>0</td>\n",
       "      <td>0</td>\n",
       "      <td>0</td>\n",
       "      <td>...</td>\n",
       "      <td>0</td>\n",
       "      <td>0</td>\n",
       "      <td>0</td>\n",
       "      <td>0</td>\n",
       "      <td>0</td>\n",
       "      <td>0</td>\n",
       "      <td>0</td>\n",
       "      <td>1</td>\n",
       "      <td>0</td>\n",
       "      <td>0</td>\n",
       "    </tr>\n",
       "    <tr>\n",
       "      <th>3</th>\n",
       "      <td>53</td>\n",
       "      <td>234721</td>\n",
       "      <td>7</td>\n",
       "      <td>0</td>\n",
       "      <td>0</td>\n",
       "      <td>40</td>\n",
       "      <td>0</td>\n",
       "      <td>0</td>\n",
       "      <td>0</td>\n",
       "      <td>0</td>\n",
       "      <td>...</td>\n",
       "      <td>0</td>\n",
       "      <td>0</td>\n",
       "      <td>0</td>\n",
       "      <td>0</td>\n",
       "      <td>0</td>\n",
       "      <td>0</td>\n",
       "      <td>0</td>\n",
       "      <td>1</td>\n",
       "      <td>0</td>\n",
       "      <td>0</td>\n",
       "    </tr>\n",
       "    <tr>\n",
       "      <th>4</th>\n",
       "      <td>28</td>\n",
       "      <td>338409</td>\n",
       "      <td>13</td>\n",
       "      <td>0</td>\n",
       "      <td>0</td>\n",
       "      <td>40</td>\n",
       "      <td>0</td>\n",
       "      <td>0</td>\n",
       "      <td>0</td>\n",
       "      <td>0</td>\n",
       "      <td>...</td>\n",
       "      <td>0</td>\n",
       "      <td>0</td>\n",
       "      <td>0</td>\n",
       "      <td>0</td>\n",
       "      <td>0</td>\n",
       "      <td>0</td>\n",
       "      <td>0</td>\n",
       "      <td>0</td>\n",
       "      <td>0</td>\n",
       "      <td>0</td>\n",
       "    </tr>\n",
       "  </tbody>\n",
       "</table>\n",
       "<p>5 rows × 101 columns</p>\n",
       "</div>"
      ],
      "text/plain": [
       "   age   fnlwgt   education-num   capital-gain   capital-loss  \\\n",
       "0   39    77516              13           2174              0   \n",
       "1   50    83311              13              0              0   \n",
       "2   38   215646               9              0              0   \n",
       "3   53   234721               7              0              0   \n",
       "4   28   338409              13              0              0   \n",
       "\n",
       "    hours-per-week   income   workclass_ Local-gov   workclass_ Never-worked  \\\n",
       "0               40        0                      0                         0   \n",
       "1               13        0                      0                         0   \n",
       "2               40        0                      0                         0   \n",
       "3               40        0                      0                         0   \n",
       "4               40        0                      0                         0   \n",
       "\n",
       "    workclass_ Other  ...   native-country_ Portugal  \\\n",
       "0                  0  ...                          0   \n",
       "1                  0  ...                          0   \n",
       "2                  0  ...                          0   \n",
       "3                  0  ...                          0   \n",
       "4                  0  ...                          0   \n",
       "\n",
       "    native-country_ Puerto-Rico   native-country_ Scotland  \\\n",
       "0                             0                          0   \n",
       "1                             0                          0   \n",
       "2                             0                          0   \n",
       "3                             0                          0   \n",
       "4                             0                          0   \n",
       "\n",
       "    native-country_ South   native-country_ Taiwan   native-country_ Thailand  \\\n",
       "0                       0                        0                          0   \n",
       "1                       0                        0                          0   \n",
       "2                       0                        0                          0   \n",
       "3                       0                        0                          0   \n",
       "4                       0                        0                          0   \n",
       "\n",
       "    native-country_ Trinadad&Tobago   native-country_ United-States  \\\n",
       "0                                 0                               1   \n",
       "1                                 0                               1   \n",
       "2                                 0                               1   \n",
       "3                                 0                               1   \n",
       "4                                 0                               0   \n",
       "\n",
       "    native-country_ Vietnam   native-country_ Yugoslavia  \n",
       "0                         0                            0  \n",
       "1                         0                            0  \n",
       "2                         0                            0  \n",
       "3                         0                            0  \n",
       "4                         0                            0  \n",
       "\n",
       "[5 rows x 101 columns]"
      ]
     },
     "execution_count": 247,
     "metadata": {},
     "output_type": "execute_result"
    }
   ],
   "source": [
    "data.head()"
   ]
  },
  {
   "cell_type": "code",
   "execution_count": 248,
   "id": "f394b1f6",
   "metadata": {},
   "outputs": [
    {
     "name": "stdout",
     "output_type": "stream",
     "text": [
      "<class 'pandas.core.frame.DataFrame'>\n",
      "RangeIndex: 32561 entries, 0 to 32560\n",
      "Columns: 101 entries, age to  native-country_ Yugoslavia\n",
      "dtypes: int64(7), uint8(94)\n",
      "memory usage: 4.7 MB\n"
     ]
    }
   ],
   "source": [
    "data.info()"
   ]
  },
  {
   "cell_type": "markdown",
   "id": "d0b4684a",
   "metadata": {},
   "source": [
    "### FEATURE & TARGET SELECTION"
   ]
  },
  {
   "cell_type": "code",
   "execution_count": 249,
   "id": "730a62bc",
   "metadata": {},
   "outputs": [],
   "source": [
    "x= data.drop(\" income\",axis=1).copy()\n",
    "y= data[\" income\"]"
   ]
  },
  {
   "cell_type": "markdown",
   "id": "a523f0c5",
   "metadata": {},
   "source": [
    "### SPLITTING THE DATA"
   ]
  },
  {
   "cell_type": "code",
   "execution_count": 250,
   "id": "bbf578f0",
   "metadata": {},
   "outputs": [],
   "source": [
    "from sklearn.model_selection import train_test_split\n",
    "x_train,x_test,y_train,y_test = train_test_split(x,y,train_size=0.8,random_state=1)"
   ]
  },
  {
   "cell_type": "markdown",
   "id": "d2b8552e",
   "metadata": {},
   "source": [
    "### CREATING THE CLASSIFICATION MODEL"
   ]
  },
  {
   "cell_type": "markdown",
   "id": "179c60be",
   "metadata": {},
   "source": [
    "### A. DECISION TREE"
   ]
  },
  {
   "cell_type": "code",
   "execution_count": 251,
   "id": "5803b125",
   "metadata": {},
   "outputs": [],
   "source": [
    "from sklearn.tree import DecisionTreeClassifier\n",
    "clf_dt = DecisionTreeClassifier()"
   ]
  },
  {
   "cell_type": "code",
   "execution_count": 252,
   "id": "17b5866b",
   "metadata": {},
   "outputs": [],
   "source": [
    "clf_dt.fit(x_train,y_train)\n",
    "y_pred = clf_dt.predict(x_test)"
   ]
  },
  {
   "cell_type": "code",
   "execution_count": 253,
   "id": "eae3d6a8",
   "metadata": {},
   "outputs": [],
   "source": [
    "from sklearn.metrics import accuracy_score\n",
    "acc_dt = accuracy_score(y_pred,y_test)"
   ]
  },
  {
   "cell_type": "markdown",
   "id": "e8bb1279",
   "metadata": {},
   "source": [
    "### B. LOGISTIC REGRESSION"
   ]
  },
  {
   "cell_type": "code",
   "execution_count": 254,
   "id": "e60dd60e",
   "metadata": {},
   "outputs": [],
   "source": [
    "from sklearn.linear_model import LogisticRegression\n",
    "clf_lr = LogisticRegression()"
   ]
  },
  {
   "cell_type": "code",
   "execution_count": 255,
   "id": "805637a4",
   "metadata": {},
   "outputs": [],
   "source": [
    "clf_lr.fit(x_train,y_train)\n",
    "y_pred = clf_lr.predict(x_test)"
   ]
  },
  {
   "cell_type": "code",
   "execution_count": 256,
   "id": "68bba64b",
   "metadata": {},
   "outputs": [],
   "source": [
    "acc_lr = accuracy_score(y_pred,y_test)"
   ]
  },
  {
   "cell_type": "markdown",
   "id": "4f36fca7",
   "metadata": {},
   "source": [
    "### C. SVM"
   ]
  },
  {
   "cell_type": "code",
   "execution_count": 257,
   "id": "96bd5101",
   "metadata": {},
   "outputs": [],
   "source": [
    "from sklearn import svm\n",
    "clf_svm = svm.SVC()"
   ]
  },
  {
   "cell_type": "code",
   "execution_count": 258,
   "id": "a2a6ae84",
   "metadata": {},
   "outputs": [],
   "source": [
    "clf_svm.fit(x_train,y_train)\n",
    "y_pred = clf_svm.predict(x_test)"
   ]
  },
  {
   "cell_type": "code",
   "execution_count": 259,
   "id": "294c315b",
   "metadata": {},
   "outputs": [],
   "source": [
    "acc_svm = accuracy_score(y_pred,y_test)"
   ]
  },
  {
   "cell_type": "markdown",
   "id": "fcc498a5",
   "metadata": {},
   "source": [
    "### D. NAIVE BAYES"
   ]
  },
  {
   "cell_type": "code",
   "execution_count": 260,
   "id": "3f0155c8",
   "metadata": {},
   "outputs": [],
   "source": [
    "from sklearn.naive_bayes import GaussianNB\n",
    "clf_gnb = GaussianNB()"
   ]
  },
  {
   "cell_type": "code",
   "execution_count": 261,
   "id": "24eacf4c",
   "metadata": {},
   "outputs": [],
   "source": [
    "clf_gnb.fit(x_train,y_train)\n",
    "y_pred = clf_gnb.predict(x_test)"
   ]
  },
  {
   "cell_type": "code",
   "execution_count": 262,
   "id": "62b63f8c",
   "metadata": {},
   "outputs": [],
   "source": [
    "acc_gnb = accuracy_score(y_pred,y_test)"
   ]
  },
  {
   "cell_type": "markdown",
   "id": "72ae6dba",
   "metadata": {},
   "source": [
    "### E. RANDOM FOREST CLASSIFIER"
   ]
  },
  {
   "cell_type": "code",
   "execution_count": 263,
   "id": "ba04253a",
   "metadata": {},
   "outputs": [],
   "source": [
    "from sklearn.ensemble import RandomForestClassifier\n",
    "clf_rf = RandomForestClassifier()"
   ]
  },
  {
   "cell_type": "code",
   "execution_count": 264,
   "id": "0b7d798d",
   "metadata": {},
   "outputs": [],
   "source": [
    "clf_rf.fit(x_train,y_train)\n",
    "y_pred = clf_rf.predict(x_test)"
   ]
  },
  {
   "cell_type": "code",
   "execution_count": 265,
   "id": "51afae47",
   "metadata": {},
   "outputs": [],
   "source": [
    "acc_rf = accuracy_score(y_pred,y_test)"
   ]
  },
  {
   "cell_type": "markdown",
   "id": "91e922ba",
   "metadata": {},
   "source": [
    "### REPRESENTING THE ACCURACY OF MODELS\n",
    "#### I HAVE USED ACCURACY_SCORE FROM SCIKIT LEARN LIBRARY."
   ]
  },
  {
   "cell_type": "code",
   "execution_count": 266,
   "id": "ef9ffe22",
   "metadata": {},
   "outputs": [],
   "source": [
    "Classifier = ('Decision Tree', 'Logistic Regression','SVM','Gaussian Naive Bayes','Random Forest Classification')\n",
    "Accuracy = (acc_dt,acc_lr,acc_svm,acc_gnb,acc_rf)"
   ]
  },
  {
   "cell_type": "code",
   "execution_count": 267,
   "id": "c0a6eb0d",
   "metadata": {},
   "outputs": [
    {
     "data": {
      "text/html": [
       "<div>\n",
       "<style scoped>\n",
       "    .dataframe tbody tr th:only-of-type {\n",
       "        vertical-align: middle;\n",
       "    }\n",
       "\n",
       "    .dataframe tbody tr th {\n",
       "        vertical-align: top;\n",
       "    }\n",
       "\n",
       "    .dataframe thead th {\n",
       "        text-align: right;\n",
       "    }\n",
       "</style>\n",
       "<table border=\"1\" class=\"dataframe\">\n",
       "  <thead>\n",
       "    <tr style=\"text-align: right;\">\n",
       "      <th></th>\n",
       "      <th>Classifier</th>\n",
       "      <th>Accuracy</th>\n",
       "    </tr>\n",
       "  </thead>\n",
       "  <tbody>\n",
       "    <tr>\n",
       "      <th>0</th>\n",
       "      <td>Decision Tree</td>\n",
       "      <td>0.815446</td>\n",
       "    </tr>\n",
       "    <tr>\n",
       "      <th>1</th>\n",
       "      <td>Logistic Regression</td>\n",
       "      <td>0.806694</td>\n",
       "    </tr>\n",
       "    <tr>\n",
       "      <th>2</th>\n",
       "      <td>SVM</td>\n",
       "      <td>0.805466</td>\n",
       "    </tr>\n",
       "    <tr>\n",
       "      <th>3</th>\n",
       "      <td>Gaussian Naive Bayes</td>\n",
       "      <td>0.802549</td>\n",
       "    </tr>\n",
       "    <tr>\n",
       "      <th>4</th>\n",
       "      <td>Random Forest Classification</td>\n",
       "      <td>0.859205</td>\n",
       "    </tr>\n",
       "  </tbody>\n",
       "</table>\n",
       "</div>"
      ],
      "text/plain": [
       "                     Classifier  Accuracy\n",
       "0                 Decision Tree  0.815446\n",
       "1           Logistic Regression  0.806694\n",
       "2                           SVM  0.805466\n",
       "3          Gaussian Naive Bayes  0.802549\n",
       "4  Random Forest Classification  0.859205"
      ]
     },
     "execution_count": 267,
     "metadata": {},
     "output_type": "execute_result"
    }
   ],
   "source": [
    "acc_data = pd.DataFrame()\n",
    "acc_data[\"Classifier\"]=Classifier\n",
    "acc_data[\"Accuracy\"]=Accuracy\n",
    "acc_data"
   ]
  },
  {
   "cell_type": "markdown",
   "id": "9d99b348",
   "metadata": {},
   "source": [
    "### CONCLUSION"
   ]
  },
  {
   "cell_type": "markdown",
   "id": "03fe2d59",
   "metadata": {},
   "source": [
    "#### FROM THE ABOVE ANALYSIS, WE CAN SAY THAT \"RANDOM FOREST CLASSIFIER\" IS BEST SUITABLE FOR CLASSIFICATION OF THE GIVEN DATA WITH AN ACCURACY OF 85%."
   ]
  },
  {
   "cell_type": "markdown",
   "id": "3b268832",
   "metadata": {},
   "source": [
    "## THANK YOU !"
   ]
  },
  {
   "cell_type": "code",
   "execution_count": null,
   "id": "2f93c49d",
   "metadata": {},
   "outputs": [],
   "source": []
  }
 ],
 "metadata": {
  "kernelspec": {
   "display_name": "Python 3",
   "language": "python",
   "name": "python3"
  },
  "language_info": {
   "codemirror_mode": {
    "name": "ipython",
    "version": 3
   },
   "file_extension": ".py",
   "mimetype": "text/x-python",
   "name": "python",
   "nbconvert_exporter": "python",
   "pygments_lexer": "ipython3",
   "version": "3.8.9"
  }
 },
 "nbformat": 4,
 "nbformat_minor": 5
}
